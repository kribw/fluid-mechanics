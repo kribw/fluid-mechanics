{
 "cells": [
  {
   "cell_type": "code",
   "execution_count": 18,
   "metadata": {},
   "outputs": [],
   "source": [
    "path = \"G:\\\\Fluid Mechanics\\\\28.11.2022\\\\\"\n",
    "file_in = open(path + \"test2.txt\", \"r\")\n",
    "file_out = open(path + \"output.csv\", \"w\")\n",
    "\n",
    "from math import sqrt, pow\n",
    "\n",
    "# Get length of vector\n",
    "def calc_length(u: float, v: float, w: float) -> float:\n",
    "    return sqrt(pow(u, 2) + pow(v, 2) + pow(w, 2))\n",
    "\n",
    "def parse_input():\n",
    "    # Skip first line\n",
    "    file_in.readline()\n",
    "    file_out.write(\"x,y,vel\\n\")\n",
    "\n",
    "    for line in file_in.readlines():\n",
    "        # x, y, z, vf, u, v, w\n",
    "        words = line.split()\n",
    "\n",
    "        uvw =  float(words[4]) + float(words[5]) + float(words[6])\n",
    "        u = float(words[4])\n",
    "        v = float(words[5])\n",
    "        w = float(words[6])\n",
    "        vf = float(words[3])\n",
    "        # Skip if we are not at surface\n",
    "        \n",
    "        #  or (vf == 1.0 and uvw != 0.0)\n",
    "        if(0.0 < vf < 1.0):\n",
    "            length = calc_length(u,v,w)\n",
    "            file_out.write(f\"{float(words[0])},{float(words[1])},{length}\\n\")\n",
    "\n",
    "        # Write x, y, velocity magnitude\n",
    "    file_in.close()\n",
    "    file_out.close()\n",
    "parse_input()\n"
   ]
  },
  {
   "cell_type": "code",
   "execution_count": 19,
   "metadata": {},
   "outputs": [
    {
     "name": "stdout",
     "output_type": "stream",
     "text": [
      "52299\n"
     ]
    }
   ],
   "source": [
    "import pandas as pd\n",
    "\n",
    "df = pd.read_csv(path + \"output.csv\")\n",
    "#df.head()\n",
    "\n",
    "print(df.size)"
   ]
  },
  {
   "cell_type": "code",
   "execution_count": 20,
   "metadata": {},
   "outputs": [
    {
     "data": {
      "text/plain": [
       "<matplotlib.collections.PathCollection at 0x228c3b23940>"
      ]
     },
     "execution_count": 20,
     "metadata": {},
     "output_type": "execute_result"
    },
    {
     "data": {
      "image/png": "[encoded data removed]",
      "text/plain": [
       "<Figure size 640x480 with 1 Axes>"
      ]
     },
     "metadata": {},
     "output_type": "display_data"
    }
   ],
   "source": [
    "import matplotlib.pyplot as plt\n",
    "\n",
    "# plt.scatter(x=df[\"x\"], y=df[\"y\"], vmin=df[\"vel\"].min(), vmax=df[\"vel\"].max()) #x=df[\"x\"], y=df[\"y\"]\n",
    "plt.scatter(x=df[\"x\"], y=df[\"y\"])"
   ]
  },
  {
   "cell_type": "code",
   "execution_count": 93,
   "metadata": {},
   "outputs": [
    {
     "data": {
      "text/html": [
       "<div>\n",
       "<style scoped>\n",
       "    .dataframe tbody tr th:only-of-type {\n",
       "        vertical-align: middle;\n",
       "    }\n",
       "\n",
       "    .dataframe tbody tr th {\n",
       "        vertical-align: top;\n",
       "    }\n",
       "\n",
       "    .dataframe thead th {\n",
       "        text-align: right;\n",
       "    }\n",
       "</style>\n",
       "<table border=\"1\" class=\"dataframe\">\n",
       "  <thead>\n",
       "    <tr style=\"text-align: right;\">\n",
       "      <th></th>\n",
       "      <th>x</th>\n",
       "      <th>y</th>\n",
       "      <th>vel</th>\n",
       "    </tr>\n",
       "  </thead>\n",
       "  <tbody>\n",
       "    <tr>\n",
       "      <th>707615</th>\n",
       "      <td>53.556301</td>\n",
       "      <td>66.366714</td>\n",
       "      <td>2.411337</td>\n",
       "    </tr>\n",
       "    <tr>\n",
       "      <th>81087</th>\n",
       "      <td>53.556301</td>\n",
       "      <td>-26.959366</td>\n",
       "      <td>0.000000</td>\n",
       "    </tr>\n",
       "    <tr>\n",
       "      <th>409359</th>\n",
       "      <td>53.556301</td>\n",
       "      <td>-19.947515</td>\n",
       "      <td>9.290107</td>\n",
       "    </tr>\n",
       "    <tr>\n",
       "      <th>244607</th>\n",
       "      <td>53.556301</td>\n",
       "      <td>14.768085</td>\n",
       "      <td>0.000000</td>\n",
       "    </tr>\n",
       "    <tr>\n",
       "      <th>648255</th>\n",
       "      <td>53.556301</td>\n",
       "      <td>-0.310000</td>\n",
       "      <td>1.139291</td>\n",
       "    </tr>\n",
       "    <tr>\n",
       "      <th>...</th>\n",
       "      <td>...</td>\n",
       "      <td>...</td>\n",
       "      <td>...</td>\n",
       "    </tr>\n",
       "    <tr>\n",
       "      <th>467936</th>\n",
       "      <td>-60.432556</td>\n",
       "      <td>20.175385</td>\n",
       "      <td>3.335095</td>\n",
       "    </tr>\n",
       "    <tr>\n",
       "      <th>468048</th>\n",
       "      <td>-60.432556</td>\n",
       "      <td>21.166080</td>\n",
       "      <td>3.396457</td>\n",
       "    </tr>\n",
       "    <tr>\n",
       "      <th>468160</th>\n",
       "      <td>-60.432556</td>\n",
       "      <td>22.182339</td>\n",
       "      <td>3.459803</td>\n",
       "    </tr>\n",
       "    <tr>\n",
       "      <th>468272</th>\n",
       "      <td>-60.432556</td>\n",
       "      <td>23.224165</td>\n",
       "      <td>3.524955</td>\n",
       "    </tr>\n",
       "    <tr>\n",
       "      <th>353808</th>\n",
       "      <td>-60.432556</td>\n",
       "      <td>-61.222099</td>\n",
       "      <td>3.144226</td>\n",
       "    </tr>\n",
       "  </tbody>\n",
       "</table>\n",
       "<p>707616 rows × 3 columns</p>\n",
       "</div>"
      ],
      "text/plain": [
       "                x          y       vel\n",
       "707615  53.556301  66.366714  2.411337\n",
       "81087   53.556301 -26.959366  0.000000\n",
       "409359  53.556301 -19.947515  9.290107\n",
       "244607  53.556301  14.768085  0.000000\n",
       "648255  53.556301  -0.310000  1.139291\n",
       "...           ...        ...       ...\n",
       "467936 -60.432556  20.175385  3.335095\n",
       "468048 -60.432556  21.166080  3.396457\n",
       "468160 -60.432556  22.182339  3.459803\n",
       "468272 -60.432556  23.224165  3.524955\n",
       "353808 -60.432556 -61.222099  3.144226\n",
       "\n",
       "[707616 rows x 3 columns]"
      ]
     },
     "execution_count": 93,
     "metadata": {},
     "output_type": "execute_result"
    }
   ],
   "source": [
    "df2 = df\n",
    "df2.sort_values(by=['x'], ascending=False)"
   ]
  },
  {
   "cell_type": "code",
   "execution_count": 40,
   "metadata": {},
   "outputs": [],
   "source": [
    "# print(df[\"55.55\"][\"20.17\"])"
   ]
  },
  {
   "cell_type": "code",
   "execution_count": 94,
   "metadata": {},
   "outputs": [
    {
     "data": {
      "text/plain": [
       "<AxesSubplot: xlabel='x', ylabel='y'>"
      ]
     },
     "execution_count": 94,
     "metadata": {},
     "output_type": "execute_result"
    },
    {
     "name": "stderr",
     "output_type": "stream",
     "text": [
      "c:\\Users\\Kristoffer\\AppData\\Local\\Programs\\Python\\Python310\\lib\\site-packages\\IPython\\core\\events.py:89: UserWarning: Creating legend with loc=\"best\" can be slow with large amounts of data.\n",
      "  func(*args, **kwargs)\n",
      "c:\\Users\\Kristoffer\\AppData\\Local\\Programs\\Python\\Python310\\lib\\site-packages\\IPython\\core\\pylabtools.py:151: UserWarning: Creating legend with loc=\"best\" can be slow with large amounts of data.\n",
      "  fig.canvas.print_figure(bytes_io, **kw)\n"
     ]
    },
    {
     "data": {
      "image/png": "[encoded data removed]",
      "text/plain": [
       "<Figure size 640x480 with 1 Axes>"
      ]
     },
     "metadata": {},
     "output_type": "display_data"
    }
   ],
   "source": [
    "import seaborn as sns\n",
    "\n",
    "sns.scatterplot(data=df, x=df[\"x\"], y=df[\"y\"], hue=df[\"vel\"], palette=sns.color_palette(\"blend:b,g,r\", as_cmap=True), marker=\"s\")"
   ]
  },
  {
   "cell_type": "code",
   "execution_count": 7,
   "metadata": {},
   "outputs": [
    {
     "data": {
      "text/html": [
       "<div>\n",
       "<style scoped>\n",
       "    .dataframe tbody tr th:only-of-type {\n",
       "        vertical-align: middle;\n",
       "    }\n",
       "\n",
       "    .dataframe tbody tr th {\n",
       "        vertical-align: top;\n",
       "    }\n",
       "\n",
       "    .dataframe thead th {\n",
       "        text-align: right;\n",
       "    }\n",
       "</style>\n",
       "<table border=\"1\" class=\"dataframe\">\n",
       "  <thead>\n",
       "    <tr style=\"text-align: right;\">\n",
       "      <th></th>\n",
       "      <th>x</th>\n",
       "      <th>y</th>\n",
       "      <th>vel</th>\n",
       "    </tr>\n",
       "  </thead>\n",
       "  <tbody>\n",
       "    <tr>\n",
       "      <th>0</th>\n",
       "      <td>45.564125</td>\n",
       "      <td>-61.222099</td>\n",
       "      <td>1.567233</td>\n",
       "    </tr>\n",
       "    <tr>\n",
       "      <th>1</th>\n",
       "      <td>47.108948</td>\n",
       "      <td>-61.222099</td>\n",
       "      <td>1.817654</td>\n",
       "    </tr>\n",
       "    <tr>\n",
       "      <th>2</th>\n",
       "      <td>48.680576</td>\n",
       "      <td>-61.222099</td>\n",
       "      <td>1.811174</td>\n",
       "    </tr>\n",
       "    <tr>\n",
       "      <th>3</th>\n",
       "      <td>50.279011</td>\n",
       "      <td>-61.222099</td>\n",
       "      <td>1.821229</td>\n",
       "    </tr>\n",
       "    <tr>\n",
       "      <th>4</th>\n",
       "      <td>51.904251</td>\n",
       "      <td>-61.222099</td>\n",
       "      <td>1.754743</td>\n",
       "    </tr>\n",
       "  </tbody>\n",
       "</table>\n",
       "</div>"
      ],
      "text/plain": [
       "           x          y       vel\n",
       "0  45.564125 -61.222099  1.567233\n",
       "1  47.108948 -61.222099  1.817654\n",
       "2  48.680576 -61.222099  1.811174\n",
       "3  50.279011 -61.222099  1.821229\n",
       "4  51.904251 -61.222099  1.754743"
      ]
     },
     "execution_count": 7,
     "metadata": {},
     "output_type": "execute_result"
    }
   ],
   "source": [
    "df.head()"
   ]
  },
  {
   "cell_type": "code",
   "execution_count": 8,
   "metadata": {},
   "outputs": [
    {
     "data": {
      "image/png": "[encoded data removed]",
      "text/html": [
       "<div style=\"vertical-align: middle;\"><strong>blend</strong> </div><div class=\"cmap\"><img alt=\"blend colormap\" title=\"blend\" style=\"border: 1px solid #555;\" src=\"data:image/png;base64,iVBORw0KGgoAAAANSUhEUgAAAgAAAABACAYAAABsv8+/AAAAFHRFWHRUaXRsZQBibGVuZCBjb2xvcm1hcKH0gPAAAAAadEVYdERlc2NyaXB0aW9uAGJsZW5kIGNvbG9ybWFwX6spFgAAADB0RVh0QXV0aG9yAE1hdHBsb3RsaWIgdjMuNi4yLCBodHRwczovL21hdHBsb3RsaWIub3Jncc5VXwAAADJ0RVh0U29mdHdhcmUATWF0cGxvdGxpYiB2My42LjIsIGh0dHBzOi8vbWF0cGxvdGxpYi5vcmdfaMp4AAABcUlEQVR4nO3WMY7CQBAAwTH8/8ngSwyBwQKdILjrqmRk7a7XiKSXmXWdmZnlOuk52zxF19/ed9nm+s/PH+277J5363/s/LKdOq3P5+34+WD92/N+/+1nvfjew/nL87n7d/se/v9X7/nwuvu/fP8AADkCAACCBAAABAkAAAgSAAAQJAAAIEgAAECQAACAIAEAAEECAACCBAAABAkAAAgSAAAQJAAAIEgAAECQAACAIAEAAEECAACCBAAABAkAAAgSAAAQJAAAIEgAAECQAACAIAEAAEECAACCBAAABAkAAAgSAAAQJAAAIEgAAECQAACAIAEAAEECAACCBAAABAkAAAgSAAAQJAAAIEgAAECQAACAIAEAAEECAACCBAAABAkAAAgSAAAQJAAAIEgAAECQAACAIAEAAEECAACCBAAABAkAAAgSAAAQJAAAIEgAAECQAACAIAEAAEECAACCBAAABAkAAAgSAAAQJAAAIEgAAEDQD+Le6n7ybtbjAAAAAElFTkSuQmCC\"></div><div style=\"vertical-align: middle; max-width: 514px; display: flex; justify-content: space-between;\"><div style=\"float: left;\"><div title=\"#0000ffff\" style=\"display: inline-block; width: 1em; height: 1em; margin: 0; vertical-align: middle; border: 1px solid #555; background-color: #0000ffff;\"></div> under</div><div style=\"margin: 0 auto; display: inline-block;\">bad <div title=\"#00000000\" style=\"display: inline-block; width: 1em; height: 1em; margin: 0; vertical-align: middle; border: 1px solid #555; background-color: #00000000;\"></div></div><div style=\"float: right;\">over <div title=\"#ff0000ff\" style=\"display: inline-block; width: 1em; height: 1em; margin: 0; vertical-align: middle; border: 1px solid #555; background-color: #ff0000ff;\"></div></div>"
      ],
      "text/plain": [
       "<matplotlib.colors.LinearSegmentedColormap at 0x209b77e46d0>"
      ]
     },
     "execution_count": 8,
     "metadata": {},
     "output_type": "execute_result"
    }
   ],
   "source": [
    "sns.color_palette(['c', 'g', 'r'], as_cmap=True)\n",
    "sns.color_palette(\"blend:b,g,r\", as_cmap=True)\n"
   ]
  },
  {
   "cell_type": "code",
   "execution_count": 9,
   "metadata": {},
   "outputs": [
    {
     "ename": "KeyboardInterrupt",
     "evalue": "",
     "output_type": "error",
     "traceback": [
      "\u001b[1;31m---------------------------------------------------------------------------\u001b[0m",
      "\u001b[1;31mKeyboardInterrupt\u001b[0m                         Traceback (most recent call last)",
      "Cell \u001b[1;32mIn [9], line 1\u001b[0m\n\u001b[1;32m----> 1\u001b[0m sns\u001b[39m.\u001b[39;49mkdeplot(data\u001b[39m=\u001b[39;49mdf, x\u001b[39m=\u001b[39;49mdf[\u001b[39m\"\u001b[39;49m\u001b[39mx\u001b[39;49m\u001b[39m\"\u001b[39;49m], y\u001b[39m=\u001b[39;49mdf[\u001b[39m\"\u001b[39;49m\u001b[39my\u001b[39;49m\u001b[39m\"\u001b[39;49m], fill\u001b[39m=\u001b[39;49m\u001b[39mTrue\u001b[39;49;00m)\n",
      "File \u001b[1;32mc:\\Users\\Kristoffer\\AppData\\Local\\Programs\\Python\\Python310\\lib\\site-packages\\seaborn\\distributions.py:1731\u001b[0m, in \u001b[0;36mkdeplot\u001b[1;34m(data, x, y, hue, weights, palette, hue_order, hue_norm, color, fill, multiple, common_norm, common_grid, cumulative, bw_method, bw_adjust, warn_singular, log_scale, levels, thresh, gridsize, cut, clip, legend, cbar, cbar_ax, cbar_kws, ax, **kwargs)\u001b[0m\n\u001b[0;32m   1717\u001b[0m     p\u001b[39m.\u001b[39mplot_univariate_density(\n\u001b[0;32m   1718\u001b[0m         multiple\u001b[39m=\u001b[39mmultiple,\n\u001b[0;32m   1719\u001b[0m         common_norm\u001b[39m=\u001b[39mcommon_norm,\n\u001b[1;32m   (...)\u001b[0m\n\u001b[0;32m   1726\u001b[0m         \u001b[39m*\u001b[39m\u001b[39m*\u001b[39mplot_kws,\n\u001b[0;32m   1727\u001b[0m     )\n\u001b[0;32m   1729\u001b[0m \u001b[39melse\u001b[39;00m:\n\u001b[1;32m-> 1731\u001b[0m     p\u001b[39m.\u001b[39mplot_bivariate_density(\n\u001b[0;32m   1732\u001b[0m         common_norm\u001b[39m=\u001b[39mcommon_norm,\n\u001b[0;32m   1733\u001b[0m         fill\u001b[39m=\u001b[39mfill,\n\u001b[0;32m   1734\u001b[0m         levels\u001b[39m=\u001b[39mlevels,\n\u001b[0;32m   1735\u001b[0m         thresh\u001b[39m=\u001b[39mthresh,\n\u001b[0;32m   1736\u001b[0m         legend\u001b[39m=\u001b[39mlegend,\n\u001b[0;32m   1737\u001b[0m         color\u001b[39m=\u001b[39mcolor,\n\u001b[0;32m   1738\u001b[0m         warn_singular\u001b[39m=\u001b[39mwarn_singular,\n\u001b[0;32m   1739\u001b[0m         cbar\u001b[39m=\u001b[39mcbar,\n\u001b[0;32m   1740\u001b[0m         cbar_ax\u001b[39m=\u001b[39mcbar_ax,\n\u001b[0;32m   1741\u001b[0m         cbar_kws\u001b[39m=\u001b[39mcbar_kws,\n\u001b[0;32m   1742\u001b[0m         estimate_kws\u001b[39m=\u001b[39mestimate_kws,\n\u001b[0;32m   1743\u001b[0m         \u001b[39m*\u001b[39m\u001b[39m*\u001b[39mkwargs,\n\u001b[0;32m   1744\u001b[0m     )\n\u001b[0;32m   1746\u001b[0m \u001b[39mreturn\u001b[39;00m ax\n",
      "File \u001b[1;32mc:\\Users\\Kristoffer\\AppData\\Local\\Programs\\Python\\Python310\\lib\\site-packages\\seaborn\\distributions.py:1081\u001b[0m, in \u001b[0;36m_DistributionPlotter.plot_bivariate_density\u001b[1;34m(self, common_norm, fill, levels, thresh, color, legend, cbar, warn_singular, cbar_ax, cbar_kws, estimate_kws, **contour_kws)\u001b[0m\n\u001b[0;32m   1079\u001b[0m \u001b[39mtry\u001b[39;00m:\n\u001b[0;32m   1080\u001b[0m     \u001b[39mif\u001b[39;00m \u001b[39mnot\u001b[39;00m singular:\n\u001b[1;32m-> 1081\u001b[0m         density, support \u001b[39m=\u001b[39m estimator(\u001b[39m*\u001b[39;49mobservations, weights\u001b[39m=\u001b[39;49mweights)\n\u001b[0;32m   1082\u001b[0m \u001b[39mexcept\u001b[39;00m np\u001b[39m.\u001b[39mlinalg\u001b[39m.\u001b[39mLinAlgError:\n\u001b[0;32m   1083\u001b[0m     \u001b[39m# Testing for 0 variance doesn't catch all cases where scipy raises,\u001b[39;00m\n\u001b[0;32m   1084\u001b[0m     \u001b[39m# but we can also get a ValueError, so we need this convoluted approach\u001b[39;00m\n\u001b[0;32m   1085\u001b[0m     singular \u001b[39m=\u001b[39m \u001b[39mTrue\u001b[39;00m\n",
      "File \u001b[1;32mc:\\Users\\Kristoffer\\AppData\\Local\\Programs\\Python\\Python310\\lib\\site-packages\\seaborn\\_statistics.py:194\u001b[0m, in \u001b[0;36mKDE.__call__\u001b[1;34m(self, x1, x2, weights)\u001b[0m\n\u001b[0;32m    192\u001b[0m     \u001b[39mreturn\u001b[39;00m \u001b[39mself\u001b[39m\u001b[39m.\u001b[39m_eval_univariate(x1, weights)\n\u001b[0;32m    193\u001b[0m \u001b[39melse\u001b[39;00m:\n\u001b[1;32m--> 194\u001b[0m     \u001b[39mreturn\u001b[39;00m \u001b[39mself\u001b[39;49m\u001b[39m.\u001b[39;49m_eval_bivariate(x1, x2, weights)\n",
      "File \u001b[1;32mc:\\Users\\Kristoffer\\AppData\\Local\\Programs\\Python\\Python310\\lib\\site-packages\\seaborn\\_statistics.py:185\u001b[0m, in \u001b[0;36mKDE._eval_bivariate\u001b[1;34m(self, x1, x2, weights)\u001b[0m\n\u001b[0;32m    182\u001b[0m \u001b[39melse\u001b[39;00m:\n\u001b[0;32m    184\u001b[0m     xx1, xx2 \u001b[39m=\u001b[39m np\u001b[39m.\u001b[39mmeshgrid(\u001b[39m*\u001b[39msupport)\n\u001b[1;32m--> 185\u001b[0m     density \u001b[39m=\u001b[39m kde([xx1\u001b[39m.\u001b[39;49mravel(), xx2\u001b[39m.\u001b[39;49mravel()])\u001b[39m.\u001b[39mreshape(xx1\u001b[39m.\u001b[39mshape)\n\u001b[0;32m    187\u001b[0m \u001b[39mreturn\u001b[39;00m density, support\n",
      "File \u001b[1;32mc:\\Users\\Kristoffer\\AppData\\Local\\Programs\\Python\\Python310\\lib\\site-packages\\seaborn\\external\\kde.py:262\u001b[0m, in \u001b[0;36mgaussian_kde.evaluate\u001b[1;34m(self, points)\u001b[0m\n\u001b[0;32m    260\u001b[0m     \u001b[39mfor\u001b[39;00m i \u001b[39min\u001b[39;00m \u001b[39mrange\u001b[39m(m):\n\u001b[0;32m    261\u001b[0m         diff \u001b[39m=\u001b[39m scaled_dataset \u001b[39m-\u001b[39m scaled_points[:, i, newaxis]\n\u001b[1;32m--> 262\u001b[0m         energy \u001b[39m=\u001b[39m \u001b[39msum\u001b[39;49m(diff \u001b[39m*\u001b[39;49m diff, axis\u001b[39m=\u001b[39;49m\u001b[39m0\u001b[39;49m) \u001b[39m/\u001b[39m \u001b[39m2.0\u001b[39m\n\u001b[0;32m    263\u001b[0m         result[i] \u001b[39m=\u001b[39m \u001b[39msum\u001b[39m(exp(\u001b[39m-\u001b[39menergy)\u001b[39m*\u001b[39m\u001b[39mself\u001b[39m\u001b[39m.\u001b[39mweights, axis\u001b[39m=\u001b[39m\u001b[39m0\u001b[39m)\n\u001b[0;32m    265\u001b[0m result \u001b[39m=\u001b[39m result \u001b[39m/\u001b[39m \u001b[39mself\u001b[39m\u001b[39m.\u001b[39m_norm_factor\n",
      "File \u001b[1;32m<__array_function__ internals>:177\u001b[0m, in \u001b[0;36msum\u001b[1;34m(*args, **kwargs)\u001b[0m\n",
      "\u001b[1;31mKeyboardInterrupt\u001b[0m: "
     ]
    },
    {
     "data": {
      "image/png": "[encoded data removed]",
      "text/plain": [
       "<Figure size 640x480 with 1 Axes>"
      ]
     },
     "metadata": {},
     "output_type": "display_data"
    }
   ],
   "source": [
    "sns.kdeplot(data=df, x=df[\"x\"], y=df[\"y\"], fill=True)"
   ]
  },
  {
   "cell_type": "code",
   "execution_count": null,
   "metadata": {},
   "outputs": [
    {
     "name": "stdout",
     "output_type": "stream",
     "text": [
      "Max x: 53.556301\n",
      "Min x: -60.432556\n",
      "Max y: 66.366714\n",
      "Min y: -61.222099\n",
      "x diff: 113.988857\n",
      "y diff: 127.588813\n",
      "x dim: 183.85299516129032\n",
      "y dim: 205.78840806451615\n"
     ]
    }
   ],
   "source": [
    "from math import dist\n",
    "\n",
    "x_unique = df['x'].unique().tolist()\n",
    "x_unique.sort()\n",
    "# print(x_unique)\n",
    "\n",
    "max = 0\n",
    "min = 2\n",
    "for i in range(len(x_unique)):\n",
    "    if not(i == len(x_unique)-1):\n",
    "        distance = dist((x_unique[i],), (x_unique[i+1],))\n",
    "        if(distance > max):\n",
    "            max = distance\n",
    "        if(distance < min):\n",
    "            min = distance\n",
    "# print(f\"{max}\")\n",
    "# print(f\"{min}\")\n",
    "\n",
    "# print(f\"dist x: {dist()}\")\n",
    "\n",
    "x_max = df[\"x\"].max()\n",
    "x_min = df[\"x\"].min()\n",
    "\n",
    "y_max = df[\"y\"].max()\n",
    "y_min = df[\"y\"].min()\n",
    "\n",
    "print(f'Max x: {x_max}')\n",
    "print(f'Min x: {x_min}')\n",
    "print(f'Max y: {y_max}')\n",
    "print(f'Min y: {y_min}')\n",
    "\n",
    "x_diff = dist((x_min,), (x_max,))\n",
    "y_diff = dist((y_min,), (y_max,))\n",
    "print(f\"x diff: {x_diff}\")\n",
    "print(f\"y diff: {y_diff}\")\n",
    "\n",
    "print(f\"x dim: {x_diff / 0.62}\")\n",
    "print(f\"y dim: {y_diff / 0.62}\")"
   ]
  }
 ],
 "metadata": {
  "kernelspec": {
   "display_name": "Python 3.10.6 64-bit",
   "language": "python",
   "name": "python3"
  },
  "language_info": {
   "codemirror_mode": {
    "name": "ipython",
    "version": 3
   },
   "file_extension": ".py",
   "mimetype": "text/x-python",
   "name": "python",
   "nbconvert_exporter": "python",
   "pygments_lexer": "ipython3",
   "version": "3.10.6"
  },
  "orig_nbformat": 4,
  "vscode": {
   "interpreter": {
    "hash": "5aa5d7b5aa74e79e5393ec3eb3e6d34cb35d76496313ea3582f715efe9b2fe9e"
   }
  }
 },
 "nbformat": 4,
 "nbformat_minor": 2
}
